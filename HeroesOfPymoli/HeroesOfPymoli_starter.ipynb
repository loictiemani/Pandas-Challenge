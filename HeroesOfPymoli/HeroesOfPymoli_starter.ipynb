{
 "cells": [
  {
   "cell_type": "markdown",
   "metadata": {},
   "source": [
    "### Note\n",
    "* Instructions have been included for each segment. You do not have to follow them exactly, but they are included to help you think through the steps."
   ]
  },
  {
   "cell_type": "code",
   "execution_count": 1,
   "metadata": {},
   "outputs": [
    {
     "data": {
      "text/html": [
       "<div>\n",
       "<style scoped>\n",
       "    .dataframe tbody tr th:only-of-type {\n",
       "        vertical-align: middle;\n",
       "    }\n",
       "\n",
       "    .dataframe tbody tr th {\n",
       "        vertical-align: top;\n",
       "    }\n",
       "\n",
       "    .dataframe thead th {\n",
       "        text-align: right;\n",
       "    }\n",
       "</style>\n",
       "<table border=\"1\" class=\"dataframe\">\n",
       "  <thead>\n",
       "    <tr style=\"text-align: right;\">\n",
       "      <th></th>\n",
       "      <th>Purchase ID</th>\n",
       "      <th>SN</th>\n",
       "      <th>Age</th>\n",
       "      <th>Gender</th>\n",
       "      <th>Item ID</th>\n",
       "      <th>Item Name</th>\n",
       "      <th>Price</th>\n",
       "    </tr>\n",
       "  </thead>\n",
       "  <tbody>\n",
       "    <tr>\n",
       "      <th>0</th>\n",
       "      <td>0</td>\n",
       "      <td>Lisim78</td>\n",
       "      <td>20</td>\n",
       "      <td>Male</td>\n",
       "      <td>108</td>\n",
       "      <td>Extraction, Quickblade Of Trembling Hands</td>\n",
       "      <td>3.53</td>\n",
       "    </tr>\n",
       "    <tr>\n",
       "      <th>1</th>\n",
       "      <td>1</td>\n",
       "      <td>Lisovynya38</td>\n",
       "      <td>40</td>\n",
       "      <td>Male</td>\n",
       "      <td>143</td>\n",
       "      <td>Frenzied Scimitar</td>\n",
       "      <td>1.56</td>\n",
       "    </tr>\n",
       "    <tr>\n",
       "      <th>2</th>\n",
       "      <td>2</td>\n",
       "      <td>Ithergue48</td>\n",
       "      <td>24</td>\n",
       "      <td>Male</td>\n",
       "      <td>92</td>\n",
       "      <td>Final Critic</td>\n",
       "      <td>4.88</td>\n",
       "    </tr>\n",
       "    <tr>\n",
       "      <th>3</th>\n",
       "      <td>3</td>\n",
       "      <td>Chamassasya86</td>\n",
       "      <td>24</td>\n",
       "      <td>Male</td>\n",
       "      <td>100</td>\n",
       "      <td>Blindscythe</td>\n",
       "      <td>3.27</td>\n",
       "    </tr>\n",
       "    <tr>\n",
       "      <th>4</th>\n",
       "      <td>4</td>\n",
       "      <td>Iskosia90</td>\n",
       "      <td>23</td>\n",
       "      <td>Male</td>\n",
       "      <td>131</td>\n",
       "      <td>Fury</td>\n",
       "      <td>1.44</td>\n",
       "    </tr>\n",
       "  </tbody>\n",
       "</table>\n",
       "</div>"
      ],
      "text/plain": [
       "   Purchase ID             SN  Age Gender  Item ID  \\\n",
       "0            0        Lisim78   20   Male      108   \n",
       "1            1    Lisovynya38   40   Male      143   \n",
       "2            2     Ithergue48   24   Male       92   \n",
       "3            3  Chamassasya86   24   Male      100   \n",
       "4            4      Iskosia90   23   Male      131   \n",
       "\n",
       "                                   Item Name  Price  \n",
       "0  Extraction, Quickblade Of Trembling Hands   3.53  \n",
       "1                          Frenzied Scimitar   1.56  \n",
       "2                               Final Critic   4.88  \n",
       "3                                Blindscythe   3.27  \n",
       "4                                       Fury   1.44  "
      ]
     },
     "execution_count": 1,
     "metadata": {},
     "output_type": "execute_result"
    }
   ],
   "source": [
    "# Dependencies and Setup\n",
    "import pandas as pd\n",
    "\n",
    "# File to Load (Remember to Change These)\n",
    "filepath = \"Resources/purchase_data.csv\"\n",
    "\n",
    "# Read Purchasing File and store into Pandas data frame\n",
    "purchase_data = pd.read_csv(filepath)\n",
    "purchase_data.head()"
   ]
  },
  {
   "cell_type": "markdown",
   "metadata": {},
   "source": [
    "## Player Count"
   ]
  },
  {
   "cell_type": "markdown",
   "metadata": {},
   "source": [
    "* Display the total number of players\n"
   ]
  },
  {
   "cell_type": "code",
   "execution_count": 7,
   "metadata": {},
   "outputs": [
    {
     "data": {
      "text/html": [
       "<div>\n",
       "<style scoped>\n",
       "    .dataframe tbody tr th:only-of-type {\n",
       "        vertical-align: middle;\n",
       "    }\n",
       "\n",
       "    .dataframe tbody tr th {\n",
       "        vertical-align: top;\n",
       "    }\n",
       "\n",
       "    .dataframe thead th {\n",
       "        text-align: right;\n",
       "    }\n",
       "</style>\n",
       "<table border=\"1\" class=\"dataframe\">\n",
       "  <thead>\n",
       "    <tr style=\"text-align: right;\">\n",
       "      <th></th>\n",
       "      <th>Total Players</th>\n",
       "    </tr>\n",
       "  </thead>\n",
       "  <tbody>\n",
       "    <tr>\n",
       "      <th>0</th>\n",
       "      <td>576</td>\n",
       "    </tr>\n",
       "  </tbody>\n",
       "</table>\n",
       "</div>"
      ],
      "text/plain": [
       "   Total Players\n",
       "0            576"
      ]
     },
     "execution_count": 7,
     "metadata": {},
     "output_type": "execute_result"
    }
   ],
   "source": [
    "player_count = len(purchase_data[\"SN\"].unique())\n",
    "player_count_df = pd.DataFrame({\"Total Players\": [player_count]})\n",
    "player_count_df"
   ]
  },
  {
   "cell_type": "markdown",
   "metadata": {},
   "source": [
    "## Purchasing Analysis (Total)"
   ]
  },
  {
   "cell_type": "markdown",
   "metadata": {},
   "source": [
    "* Run basic calculations to obtain number of unique items, average price, etc.\n",
    "\n",
    "\n",
    "* Create a summary data frame to hold the results\n",
    "\n",
    "\n",
    "* Optional: give the displayed data cleaner formatting\n",
    "\n",
    "\n",
    "* Display the summary data frame\n"
   ]
  },
  {
   "cell_type": "code",
   "execution_count": 12,
   "metadata": {
    "scrolled": true
   },
   "outputs": [
    {
     "data": {
      "text/html": [
       "<div>\n",
       "<style scoped>\n",
       "    .dataframe tbody tr th:only-of-type {\n",
       "        vertical-align: middle;\n",
       "    }\n",
       "\n",
       "    .dataframe tbody tr th {\n",
       "        vertical-align: top;\n",
       "    }\n",
       "\n",
       "    .dataframe thead th {\n",
       "        text-align: right;\n",
       "    }\n",
       "</style>\n",
       "<table border=\"1\" class=\"dataframe\">\n",
       "  <thead>\n",
       "    <tr style=\"text-align: right;\">\n",
       "      <th></th>\n",
       "      <th>Number of Unique Items</th>\n",
       "      <th>Average Price</th>\n",
       "      <th>Number of Purchases</th>\n",
       "      <th>Total Revenue</th>\n",
       "    </tr>\n",
       "  </thead>\n",
       "  <tbody>\n",
       "    <tr>\n",
       "      <th>0</th>\n",
       "      <td>179</td>\n",
       "      <td>$3.05</td>\n",
       "      <td>780</td>\n",
       "      <td>$2379.77</td>\n",
       "    </tr>\n",
       "  </tbody>\n",
       "</table>\n",
       "</div>"
      ],
      "text/plain": [
       "   Number of Unique Items Average Price  Number of Purchases Total Revenue\n",
       "0                     179         $3.05                  780      $2379.77"
      ]
     },
     "execution_count": 12,
     "metadata": {},
     "output_type": "execute_result"
    }
   ],
   "source": [
    "# Number of Unique Items\n",
    "unique_items = len(purchase_data[\"Item ID\"].unique())\n",
    "\n",
    "# Average Purchase Price\n",
    "average_price = purchase_data[\"Price\"].mean()\n",
    "\n",
    "# Total Number of Purchases\n",
    "total_purchases = len(purchase_data[\"Purchase ID\"].unique())\n",
    "\n",
    "# Total Revenue\n",
    "total_revenue = purchase_data[\"Price\"].sum()\n",
    "\n",
    "# Create Summary DataFrame\n",
    "\n",
    "Purchasing_Analysis = pd.DataFrame([{\"Number of Unique Items\":unique_items,\"Average Price\":average_price,\"Number of Purchases\":total_purchases,\"Total Revenue\":total_revenue}],columns=[\"Number of Unique Items\", \"Average Price\", \"Number of Purchases\", \"Total Revenue\"])\n",
    "Purchasing_Analysis[\"Average Price\"] = Purchasing_Analysis[\"Average Price\"].map(\"${:.2f}\".format)\n",
    "Purchasing_Analysis[\"Total Revenue\"] = Purchasing_Analysis[\"Total Revenue\"].map(\"${:.2f}\".format)\n",
    "\n",
    "\n",
    "Purchasing_Analysis"
   ]
  },
  {
   "cell_type": "markdown",
   "metadata": {},
   "source": [
    "## Gender Demographics"
   ]
  },
  {
   "cell_type": "markdown",
   "metadata": {},
   "source": [
    "* Percentage and Count of Male Players\n",
    "\n",
    "\n",
    "* Percentage and Count of Female Players\n",
    "\n",
    "\n",
    "* Percentage and Count of Other / Non-Disclosed\n",
    "\n",
    "\n"
   ]
  },
  {
   "cell_type": "code",
   "execution_count": null,
   "metadata": {},
   "outputs": [],
   "source": [
    "# Percentage and Count of Male Players\n",
    "male_players = (purchase_data.loc[purchase_data[\"Gender\"]== \"Male\",:])\n",
    "male_count = len(male_players[\"SN\"].unique())\n",
    "male_percentage = \"{:.2f}%\".format(male_count/player_count*100)\n",
    "\n",
    "# Percentage and Count of Female Players\n",
    "female_players = (purchase_data.loc[purchase_data[\"Gender\"]== \"Female\",:])\n",
    "female_count = len(female_players[\"SN\"].unique())\n",
    "female_percentage = \"{:.2f}%\".format(female_count/player_count*100)\n",
    "\n",
    "# Percentage and Count of Other / Non-Disclosed\n",
    "other_players = (purchase_data.loc[purchase_data[\"Gender\"]== \"Other / Non-Disclosed\",:])\n",
    "other_players_count = len(other_players[\"SN\"].unique())\n",
    "other_players_percentage = \"{:.2f}%\".format(other_players_count/player_count*100)\n",
    "\n",
    "\n",
    "# Create Summary DataFrame\n",
    "gender_demographics = pd.DataFrame([{\"Gender\":\"Male\",\n",
    "                                     \"Total Count\":male_count,\n",
    "                                     \"Percentage\":male_percentage},\n",
    "                                    {\"Gender\":\"Female\", \n",
    "                                    \"Total Count\":female_count,\n",
    "                                     \"Percentage\":female_percentage},\n",
    "                                    {\"Gender\":\"Other / Non-Disclosed\",\n",
    "                                     \"Total Count\":other_players_count,\n",
    "                                     \"Percentage\":other_players_percentage }])\n",
    "\n",
    "gender_demographics= gender_demographics.set_index(\"Gender\")\n",
    "\n",
    "gender_demographics.index.name=None\n",
    "\n",
    "gender_demographics\n"
   ]
  },
  {
   "cell_type": "markdown",
   "metadata": {},
   "source": [
    "\n",
    "## Purchasing Analysis (Gender)"
   ]
  },
  {
   "cell_type": "markdown",
   "metadata": {},
   "source": [
    "* Run basic calculations to obtain purchase count, avg. purchase price, avg. purchase total per person etc. by gender\n",
    "\n",
    "\n",
    "\n",
    "\n",
    "* Create a summary data frame to hold the results\n",
    "\n",
    "\n",
    "* Optional: give the displayed data cleaner formatting\n",
    "\n",
    "\n",
    "* Display the summary data frame"
   ]
  },
  {
   "cell_type": "code",
   "execution_count": null,
   "metadata": {},
   "outputs": [],
   "source": [
    "# Purchase Count of Male Players\n",
    "male_players_data = (purchase_data.loc[purchase_data[\"Gender\"]== \"Male\",:])\n",
    "male_purchase= len(male_players_data[\"SN\"])\n",
    "\n",
    "# Average Purchase Price of Male Players\n",
    "avg_male_purchase = male_players_data[\"Price\"].mean()\n",
    "\n",
    "# Total Purchase value of Male Players\n",
    "total_male_purchase = male_players_data[\"Price\"].sum()\n",
    "\n",
    "\n",
    "\n",
    "# Purchase Count of Female Players\n",
    "female_players_data = (purchase_data.loc[purchase_data[\"Gender\"]== \"Female\",:])\n",
    "female_purchase= len(female_players_data[\"SN\"])\n",
    "\n",
    "# Average Purchase Price of Female Players\n",
    "avg_female_purchase = female_players_data[\"Price\"].mean()\n",
    "\n",
    "# Total Purchase value of Female Players\n",
    "total_female_purchase = female_players_data[\"Price\"].sum()\n",
    "\n",
    "\n",
    "# Purchase Count of Other / Non-Disclosed Players\n",
    "other_players_data = (purchase_data.loc[purchase_data[\"Gender\"]== \"Other / Non-Disclosed\",:])\n",
    "other_players_purchase= len(other_players_data[\"SN\"])\n",
    "\n",
    "# Average Purchase Price of Other / Non-Disclosed Players\n",
    "avg_other_players_purchase = other_players_data[\"Price\"].mean()\n",
    "\n",
    "# Total Purchase value of Other / Non-Disclosed Players\n",
    "total_other_players_purchase = other_players_data[\"Price\"].sum()\n",
    "\n",
    "\n",
    "#Average Purchase Total per Person by Gender\n",
    "\n",
    "avg_male_purchase_total = total_male_purchase/ male_count\n",
    "avg_female_purchase_total = total_female_purchase / female_count\n",
    "avg_other_purchase_total = total_other_players_purchase / other_players_count\n",
    "\n",
    "\n",
    "# Create Summary DataFrame\n",
    "purchasing_analysis_gender = pd.DataFrame([{\"Gender\":\"Male\", \"Purchase Count\": male_purchase,\n",
    "                                            \" Average Purchase Price\": \"${:.2f}\".format(avg_male_purchase),\n",
    "                                            \" Total Purchase Value\":\"${:.2f}\".format(total_male_purchase),\n",
    "                                           \"Average Purchase Total per Person\":\"${:.2f}\".format(avg_male_purchase_total)},\n",
    "                                           {\"Gender\":\"Female\", \"Purchase Count\": female_purchase,\n",
    "                                            \" Average Purchase Price\": \"${:.2f}\".format(avg_female_purchase),\n",
    "                                            \" Total Purchase Value\":\"${:.2f}\".format(total_female_purchase),\n",
    "                                           \"Average Purchase Total per Person\":\"${:.2f}\".format(avg_female_purchase_total)},\n",
    "                                           {\"Gender\":\"Other / Non-Disclosed\", \"Purchase Count\": other_players_purchase,\n",
    "                                            \" Average Purchase Price\":\"${:.2f}\".format(avg_other_players_purchase),\n",
    "                                            \" Total Purchase Value\":\"${:.2f}\".format(total_other_players_purchase),\n",
    "                                           \"Average Purchase Total per Person\":\"${:.2f}\".format(avg_other_purchase_total)}\n",
    "                                           ])\n",
    "\n",
    "purchasing_analysis_gender =purchasing_analysis_gender.set_index(\"Gender\")\n",
    "purchasing_analysis_gender\n"
   ]
  },
  {
   "cell_type": "markdown",
   "metadata": {},
   "source": [
    "## Age Demographics"
   ]
  },
  {
   "cell_type": "markdown",
   "metadata": {},
   "source": [
    "* Establish bins for ages\n",
    "\n",
    "\n",
    "* Categorize the existing players using the age bins. Hint: use pd.cut()\n",
    "\n",
    "\n",
    "* Calculate the numbers and percentages by age group\n",
    "\n",
    "\n",
    "* Create a summary data frame to hold the results\n",
    "\n",
    "\n",
    "* Optional: round the percentage column to two decimal points\n",
    "\n",
    "\n",
    "* Display Age Demographics Table\n"
   ]
  },
  {
   "cell_type": "code",
   "execution_count": null,
   "metadata": {},
   "outputs": [],
   "source": [
    "# Figure out the minimum and maximum ages of players\n",
    "#print(purchase_data[\"Age\"].max())\n",
    "#print(purchase_data[\"Age\"].min())\n",
    "\n",
    "# Establish Bins for Ages & Create Corresponding Names For Bins\n",
    "age_bins = [0,9,14,19,24,29,34,39,46]\n",
    "\n",
    "# Create labels for these bins\n",
    "age_class = [\"<10\", \"10-14\", \"15-19\", \"20-24\", \"25-29\" , \"30-34 \", \"35-39\", \"40+\" ]\n",
    "\n",
    "# Place Data Series Into New Column Inside DataFrame\n",
    "purchase_data[\"Age Group\"] = pd.cut(purchase_data[\"Age\"], age_bins, labels= age_class)\n",
    "purchase_data\n",
    "\n",
    "# Create a GroupBy object based upon Age Group\n",
    "age_group = purchase_data.groupby(\"Age Group\")\n",
    "\n",
    "# Count Total Players by Age Category\n",
    "total_count_age = age_group[\"SN\"].nunique()\n",
    "\n",
    "# Calculate Percentages by Age Category \n",
    "percentage_by_age = (total_count_age/ player_count*100)\n",
    "\n",
    "# Create Summary DataFrame\n",
    "age_demographics = pd.DataFrame({\"Total Count\": total_count_age,\"Percentage of Players\":percentage_by_age })\n",
    "age_demographics[\"Percentage of Players\"] = age_demographics[\"Percentage of Players\"].map(\"{:.2f}%\".format)\n",
    "age_demographics.index.name=None\n",
    "age_demographics"
   ]
  },
  {
   "cell_type": "markdown",
   "metadata": {},
   "source": [
    "## Purchasing Analysis (Age)"
   ]
  },
  {
   "cell_type": "markdown",
   "metadata": {},
   "source": [
    "* Bin the purchase_data data frame by age\n",
    "\n",
    "\n",
    "* Run basic calculations to obtain purchase count, avg. purchase price, avg. purchase total per person etc. in the table below\n",
    "\n",
    "\n",
    "* Create a summary data frame to hold the results\n",
    "\n",
    "\n",
    "* Optional: give the displayed data cleaner formatting\n",
    "\n",
    "\n",
    "* Display the summary data frame"
   ]
  },
  {
   "cell_type": "code",
   "execution_count": null,
   "metadata": {},
   "outputs": [],
   "source": [
    "# Establish Bins for Ages & Create Corresponding Names For Bins\n",
    "age_bins = [0,9,14,19,24,29,34,39,46]\n",
    "age_class = [\"<10\", \"10-14\", \"15-19\", \"20-24\", \"25-29\" , \"30-34 \", \"35-39\", \"40+\" ]\n",
    "\n",
    "# Place Data Series Into New Column Inside DataFrame\n",
    "purchase_data[\"Age Group\"] = pd.cut(purchase_data[\"Age\"], age_bins, labels= age_class)\n",
    "\n",
    "# Calculate Purchase Count\n",
    "purchase_count = age_group[\"SN\"].count()\n",
    "\n",
    "# Calculate Average Purchase Price\n",
    "avg_purchase_price = age_group[\"Price\"].mean()\n",
    "\n",
    "# Calculate Total Purchase Value\n",
    "total_age_purchase = age_group[\"Price\"].sum()\n",
    "\n",
    "# Calculate Avg Total Purchase per Person\n",
    "avg_purchase_total = total_age_purchase/total_count_age\n",
    "\n",
    "purchasing_analysis_age = pd.DataFrame({\"Purchase Count\":purchase_count,\n",
    "                                        \"Average Purchase Price\":avg_purchase_price,\"Total Purchase Value\":total_age_purchase,\n",
    "                                        \"Average Total Purchase per Person\":avg_purchase_total})\n",
    "purchasing_analysis_age[\"Average Purchase Price\"] = purchasing_analysis_age[\"Average Purchase Price\"].map(\"${:,.2f}\".format)\n",
    "purchasing_analysis_age[\"Total Purchase Value\"] = purchasing_analysis_age[\"Total Purchase Value\"].map(\"${:,.2f}\".format)\n",
    "purchasing_analysis_age[\"Average Total Purchase per Person\"] = purchasing_analysis_age[\"Average Total Purchase per Person\"].map(\"${:,.2f}\".format) \n",
    "purchasing_analysis_age"
   ]
  },
  {
   "cell_type": "markdown",
   "metadata": {},
   "source": [
    "## Top Spenders"
   ]
  },
  {
   "cell_type": "markdown",
   "metadata": {},
   "source": [
    "* Run basic calculations to obtain the results in the table below\n",
    "\n",
    "\n",
    "* Create a summary data frame to hold the results\n",
    "\n",
    "\n",
    "* Sort the total purchase value column in descending order\n",
    "\n",
    "\n",
    "* Optional: give the displayed data cleaner formatting\n",
    "\n",
    "\n",
    "* Display a preview of the summary data frame\n",
    "\n"
   ]
  },
  {
   "cell_type": "code",
   "execution_count": null,
   "metadata": {
    "scrolled": true
   },
   "outputs": [],
   "source": [
    "# Identify the Top 5 Spenders in the Game by Total Purchase Value & GroupBy SN\n",
    "top_spenders = purchase_data.groupby(\"SN\")\n",
    "\n",
    "# Calculate Purchase Count of each player\n",
    "spender_purchase = (top_spenders[\"Purchase ID\"].count())\n",
    "\n",
    "# Calculate Average Purchase Price\n",
    "average_spender_purchase_price = top_spenders[\"Price\"].mean()\n",
    "\n",
    "# Calculate Total Purchase Value\n",
    "total_spender_purchase = top_spenders[\"Price\"].sum()\n",
    "\n",
    "# Create Summary DataFrame for Top Spenders\n",
    "\n",
    "top_spenders_analysis = pd.DataFrame({\"Purchase Count\":spender_purchase,\n",
    "                                     \"Average Purchase Price\":average_spender_purchase_price, \n",
    "                                     \"Total Purchase Value\":total_spender_purchase})\n",
    "sort_top_spenders_analysis = top_spenders_analysis.sort_values([\"Total Purchase Value\"], ascending=False).head()\n",
    "sort_top_spenders_analysis[\"Average Purchase Price\"] = sort_top_spenders_analysis[\"Average Purchase Price\"].map(\"${:.2f}\".format)\n",
    "sort_top_spenders_analysis[\"Total Purchase Value\"] = sort_top_spenders_analysis[\"Total Purchase Value\"].map(\"${:.2f}\".format)\n",
    "\n",
    "sort_top_spenders_analysis"
   ]
  },
  {
   "cell_type": "markdown",
   "metadata": {},
   "source": [
    "## Most Popular Items"
   ]
  },
  {
   "cell_type": "markdown",
   "metadata": {},
   "source": [
    "* Retrieve the Item ID, Item Name, and Item Price columns\n",
    "\n",
    "\n",
    "* Group by Item ID and Item Name. Perform calculations to obtain purchase count, average item price, and total purchase value\n",
    "\n",
    "\n",
    "* Create a summary data frame to hold the results\n",
    "\n",
    "\n",
    "* Sort the purchase count column in descending order\n",
    "\n",
    "\n",
    "* Optional: give the displayed data cleaner formatting\n",
    "\n",
    "\n",
    "* Display a preview of the summary data frame\n",
    "\n"
   ]
  },
  {
   "cell_type": "code",
   "execution_count": null,
   "metadata": {},
   "outputs": [],
   "source": [
    "# Identify the 5 Most Popular Items by Creating New DataFrame\n",
    "most_popular_item_data = purchase_data[[\"Item ID\",\"Item Name\",\"Price\"]]\n",
    "\n",
    "#GroupBy  \"Item ID\" and \"Item Name\"\n",
    "popular_items = most_popular_item_data.groupby([\"Item ID\",\"Item Name\"])\n",
    "\n",
    "# Calculate Purchase Count\n",
    "item_purchase_count = popular_items[\"Price\"].count()\n",
    "\n",
    "# Calculate Total Purchase Value\n",
    "total_popular_item_value = popular_items[\"Price\"].sum()\n",
    "\n",
    "# Calculate Item Price\n",
    "item_price =  total_popular_item_value / item_purchase_count\n",
    "\n",
    "# Create Summary DataFrame\n",
    "Most_Popular_Items_analysis = pd.DataFrame({\"Purchase Count\": item_purchase_count, \n",
    "   \"Item Price\":item_price,\n",
    "   \"Total Purchase Value\":total_popular_item_value})\n",
    "\n",
    "Most_Popular_Items_analysis_clean= Most_Popular_Items_analysis.sort_values([\"Purchase Count\"], ascending=False).head()\n",
    "Most_Popular_Items_analysis_clean[\"Item Price\"] = Most_Popular_Items_analysis_clean[\"Item Price\"].map(\"${:.2f}\".format)\n",
    "Most_Popular_Items_analysis_clean[\"Total Purchase Value\"] = Most_Popular_Items_analysis_clean[\"Total Purchase Value\"].map(\"${:.2f}\".format)\n",
    "Most_Popular_Items_analysis_clean"
   ]
  },
  {
   "cell_type": "markdown",
   "metadata": {},
   "source": [
    "## Most Profitable Items"
   ]
  },
  {
   "cell_type": "markdown",
   "metadata": {},
   "source": [
    "* Sort the above table by total purchase value in descending order\n",
    "\n",
    "\n",
    "* Optional: give the displayed data cleaner formatting\n",
    "\n",
    "\n",
    "* Display a preview of the data frame\n",
    "\n"
   ]
  },
  {
   "cell_type": "code",
   "execution_count": null,
   "metadata": {
    "scrolled": true
   },
   "outputs": [],
   "source": [
    "Most_Profitable_Items= Most_Popular_Items_analysis.sort_values([\"Total Purchase Value\"], ascending=False).head()\n",
    "Most_Profitable_Items[\"Item Price\"] = Most_Profitable_Items[\"Item Price\"].map(\"${:.2f}\".format)\n",
    "Most_Profitable_Items[\"Total Purchase Value\"] = Most_Profitable_Items[\"Total Purchase Value\"].map(\"${:.2f}\".format)\n",
    "Most_Profitable_Items"
   ]
  },
  {
   "cell_type": "markdown",
   "metadata": {},
   "source": [
    "# Observable Trends\n"
   ]
  },
  {
   "cell_type": "raw",
   "metadata": {},
   "source": [
    "From the purchasing analysis by Gender it can be observed that female players and non-disclosed players spent more on average at 6% and 11% higher than their male counterparts respectively even though males outnumber them by at least 5:1.\n",
    "\n",
    "About 45% of players are between 20 and 24 years old with their average spend at $3.05. The age demographic that has the highest average purchases per person are the 35 to 39 year olds with $3.60 which is about 20% higher than 20 - 24 year olds. The 35 to 39 year olds have the highest purchasing power.\n",
    "\n",
    "\n",
    "Final Critic and Oathbreaker, Last Hope of the Breaking Storm are the most popular and most profitable items."
   ]
  },
  {
   "cell_type": "code",
   "execution_count": null,
   "metadata": {},
   "outputs": [],
   "source": []
  }
 ],
 "metadata": {
  "anaconda-cloud": {},
  "kernel_info": {
   "name": "python3"
  },
  "kernelspec": {
   "display_name": "Python 3",
   "language": "python",
   "name": "python3"
  },
  "language_info": {
   "codemirror_mode": {
    "name": "ipython",
    "version": 3
   },
   "file_extension": ".py",
   "mimetype": "text/x-python",
   "name": "python",
   "nbconvert_exporter": "python",
   "pygments_lexer": "ipython3",
   "version": "3.7.6"
  },
  "latex_envs": {
   "LaTeX_envs_menu_present": true,
   "autoclose": false,
   "autocomplete": true,
   "bibliofile": "biblio.bib",
   "cite_by": "apalike",
   "current_citInitial": 1,
   "eqLabelWithNumbers": true,
   "eqNumInitial": 1,
   "hotkeys": {
    "equation": "Ctrl-E",
    "itemize": "Ctrl-I"
   },
   "labels_anchors": false,
   "latex_user_defs": false,
   "report_style_numbering": false,
   "user_envs_cfg": false
  },
  "nteract": {
   "version": "0.2.0"
  }
 },
 "nbformat": 4,
 "nbformat_minor": 2
}
